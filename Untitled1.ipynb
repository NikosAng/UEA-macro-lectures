{
  "nbformat": 4,
  "nbformat_minor": 0,
  "metadata": {
    "colab": {
      "provenance": [],
      "authorship_tag": "ABX9TyM5a3154oHt6gILfBBe2N25",
      "include_colab_link": true
    },
    "kernelspec": {
      "name": "python3",
      "display_name": "Python 3"
    },
    "language_info": {
      "name": "python"
    }
  },
  "cells": [
    {
      "cell_type": "markdown",
      "metadata": {
        "id": "view-in-github",
        "colab_type": "text"
      },
      "source": [
        "<a href=\"https://colab.research.google.com/github/NikosAng/UEA-macro-lectures/blob/main/Untitled1.ipynb\" target=\"_parent\"><img src=\"https://colab.research.google.com/assets/colab-badge.svg\" alt=\"Open In Colab\"/></a>"
      ]
    },
    {
      "cell_type": "code",
      "execution_count": null,
      "metadata": {
        "id": "JLR7tiNdT1Gk"
      },
      "outputs": [],
      "source": []
    },
    {
      "cell_type": "markdown",
      "source": [
        "# Time-Series Properties of Macroeconomic Aggregates  \n",
        "_Companion notebook for “Advanced Topics in Macroeconomics — Lecture 9”_  \n",
        "Nikos Angelopoulos · UEA\n",
        "\n",
        "**Learning goals**\n",
        "\n",
        "1.  Spot visual hints of stationarity vs unit roots.  \n",
        "2.  Run & interpret ADF, KPSS, Zivot–Andrews, and Lee–Strazicich tests.  \n",
        "3.  Measure the **size** of the permanent component (half-life, ψ(1), variance-ratio).  \n",
        "4.  Map persistence into a sticky-price New-Keynesian policy experiment.\n",
        "\n",
        "*Estimated hands-on time: 60–75 min*\n"
      ],
      "metadata": {
        "id": "GYlIZCgMUyCe"
      }
    },
    {
      "cell_type": "code",
      "source": [
        "\n",
        "# @title 1 · Setup & Imports  (installs + imports) {display-mode: \"code\"}\n",
        "!pip install -q pandas_datareader statsmodels arch ruptures ipywidgets\n",
        "\n",
        "import warnings\n",
        "import numpy as np\n",
        "import pandas as pd\n",
        "import matplotlib.pyplot as plt\n",
        "import statsmodels.api as sm\n",
        "\n",
        "from pandas_datareader import data as web\n",
        "from arch.unitroot import ADF, KPSS, ZivotAndrews, VarianceRatio\n",
        "import ruptures as rpt\n",
        "import ipywidgets as wd\n",
        "\n",
        "# Plot styling\n",
        "plt.rcParams.update({\n",
        "    'figure.dpi': 110,\n",
        "    'axes.spines.top': False,\n",
        "    'axes.spines.right': False\n",
        "})\n",
        "warnings.filterwarnings('ignore')\n"
      ],
      "metadata": {
        "id": "yPF_A84FUyyl"
      },
      "execution_count": null,
      "outputs": []
    },
    {
      "cell_type": "markdown",
      "source": [
        "## 2 · Fetch quarterly US data (1950Q1–latest) via pandas_datareader\n",
        "\n",
        "We pull three series from FRED:\n",
        "\n",
        "- **GDPC1**: Real GDP (billions of 2017 USD) → log-level  \n",
        "- **UNRATE**: Civilian unemployment rate (%)  \n",
        "- **CPIAUCSL**: CPI all urban consumers → log-level  \n"
      ],
      "metadata": {
        "id": "FTMYkdb5VS7V"
      }
    },
    {
      "cell_type": "code",
      "source": [
        "# @title 2 · Fetch & align quarterly data from FRED {display-mode: \"code\"}\n",
        "from pandas_datareader import data as web\n",
        "import numpy as np, pandas as pd\n",
        "\n",
        "# 1) Pull raw series (monthly for UNRATE + CPI, quarterly for GDPC1)\n",
        "raw_gdp   = web.DataReader('GDPC1',   'fred', start='1947-01-01')  # quarterly\n",
        "raw_unemp = web.DataReader('UNRATE',  'fred', start='1947-01-01')  # monthly\n",
        "raw_cpi   = web.DataReader('CPIAUCSL','fred', start='1947-01-01')  # monthly\n",
        "\n",
        "# 2) Convert / resample to one obs per quarter, then to PeriodIndex\n",
        "gdp_q   = raw_gdp['GDPC1'].to_period('Q')\n",
        "unemp_q = raw_unemp['UNRATE'].resample('Q').last().to_period('Q')\n",
        "cpi_q   = raw_cpi['CPIAUCSL'].resample('Q').last().to_period('Q')\n",
        "\n",
        "# 3) Build DataFrame & take logs where appropriate\n",
        "df = pd.DataFrame({\n",
        "    'GDP':    np.log(gdp_q),\n",
        "    'CPI':    np.log(cpi_q),\n",
        "    'UNRATE': unemp_q\n",
        "}).dropna()\n",
        "\n",
        "print(\"Data covers\", df.index.min(), \"to\", df.index.max())\n",
        "df.tail()\n"
      ],
      "metadata": {
        "id": "CqR-egNNVUMu"
      },
      "execution_count": null,
      "outputs": []
    },
    {
      "cell_type": "markdown",
      "source": [
        "### 2.1 Visual diagnostics — levels vs first differences\n"
      ],
      "metadata": {
        "id": "qnWDzDyqWF4A"
      }
    },
    {
      "cell_type": "code",
      "source": [
        "fig, axes = plt.subplots(2, 3, figsize=(12,4), sharex='col')\n",
        "for ax, s in zip(axes[0], df.columns):\n",
        "    df[s].plot(ax=ax)\n",
        "    ax.set_title(f'{s} (level)')\n",
        "for ax, s in zip(axes[1], df.columns):\n",
        "    df[s].diff().plot(ax=ax)\n",
        "    ax.set_title(f'Δ{s} (first diff)')\n",
        "fig.tight_layout()\n"
      ],
      "metadata": {
        "id": "ejs32vLNWGkT"
      },
      "execution_count": null,
      "outputs": []
    },
    {
      "cell_type": "markdown",
      "source": [
        "> **Checkpoint ✍️**  \n",
        "> Which of these three series appears mean‐reverting (I(0)) versus trending (I(1))?\n"
      ],
      "metadata": {
        "id": "bMtUXzUSX0Cm"
      }
    },
    {
      "cell_type": "markdown",
      "source": [
        "## 3 · Unit‐root workbench (ADF & KPSS)\n",
        "\n",
        "- **ADF** null: unit root (I(1))  \n",
        "- **KPSS** null: stationarity (I(0))  \n",
        "\n",
        "Use the widgets to select series, lag length, and trend.\n"
      ],
      "metadata": {
        "id": "NFq_0ahqX2gE"
      }
    },
    {
      "cell_type": "code",
      "source": [
        "# @title 3 · Unit-root workbench (ADF & KPSS) — corrected {display-mode: \"code\"}\n",
        "from arch.unitroot import ADF, KPSS\n",
        "\n",
        "def unitroot_tests(series='GDP', maxlag=4, trend='c'):\n",
        "    y = df[series].dropna()\n",
        "    # ADF: uses maxlag\n",
        "    adf = ADF(y, lags=maxlag, trend=trend)\n",
        "    # KPSS: also uses maxlag\n",
        "    kpss = KPSS(y, lags=maxlag, trend=trend)\n",
        "    out = pd.DataFrame({\n",
        "        'Test':       ['ADF',    'KPSS'],\n",
        "        'Statistic':  [adf.stat, kpss.stat],\n",
        "        'p-value':    [adf.pvalue, kpss.pvalue],\n",
        "        'Lags used':  [adf.lags, kpss.lags]\n",
        "    })\n",
        "    display(out)\n",
        "\n",
        "wd.interact(\n",
        "    unitroot_tests,\n",
        "    series=wd.Dropdown(options=df.columns, value='GDP', description='Series'),\n",
        "    maxlag=wd.IntSlider(value=4, min=0, max=12, step=1, description='Max lag'),\n",
        "    trend=wd.RadioButtons(\n",
        "        options={'No trend':'n','Constant':'c','Const+trend':'ct'},\n",
        "        value='c',\n",
        "        description='Trend'\n",
        "    )\n",
        ");\n"
      ],
      "metadata": {
        "id": "PEy_MRxCX03_"
      },
      "execution_count": null,
      "outputs": []
    },
    {
      "cell_type": "markdown",
      "source": [
        "## 4 · Structural‐break test (Zivot & Andrews)\n",
        "\n",
        "One endogenous break in intercept, trend, or both chosen to minimize the ADF τ‐statistic.\n"
      ],
      "metadata": {
        "id": "OGgAQpoeYLHA"
      }
    },
    {
      "cell_type": "code",
      "source": [
        "# @title 4 · Structural‐break test (Zivot & Andrews via statsmodels) {display-mode: \"code\"}\n",
        "from statsmodels.tsa.stattools import zivot_andrews\n",
        "\n",
        "series = 'GDP'  # ← change to 'CPI' or 'UNRATE' and re-run\n",
        "\n",
        "# Run the test: returns (stat, pvalue, crit_vals, lags_used, break_index)\n",
        "za_res = zivot_andrews(\n",
        "    df[series],\n",
        "    trim=0.15,      # ignore first/last 15% when searching breaks\n",
        "    maxlag=8,       # maximum AR lags\n",
        "    regression='c'  # model: constant only under the alternative\n",
        ")\n",
        "stat, pvalue, crit_vals, lags_used, break_idx = za_res\n",
        "\n",
        "print(f\"ZA τ-stat   = {stat:.3f}\")\n",
        "print(f\"p-value      = {pvalue:.3f}\")\n",
        "print(f\"lags used    = {lags_used}\")\n",
        "print(f\"crit. values = {crit_vals}\")\n",
        "print(f\"break date   = {df.index[break_idx]}\")\n",
        "\n",
        "# Plot the series with the detected break\n",
        "ax = df[series].plot(\n",
        "    figsize=(6,3),\n",
        "    title=f\"{series}: Zivot–Andrews break at {df.index[break_idx]}\"\n",
        ")\n",
        "ax.axvline(\n",
        "    df.index[break_idx].to_timestamp(),\n",
        "    color='crimson', linestyle='--', label='break date'\n",
        ")\n",
        "ax.legend()\n",
        "plt.show()\n"
      ],
      "metadata": {
        "id": "nu894vl7YLox"
      },
      "execution_count": null,
      "outputs": []
    },
    {
      "cell_type": "markdown",
      "source": [
        "## 5 · How big is the random walk? — Persistence metrics\n"
      ],
      "metadata": {
        "id": "OIAszOyeYvWe"
      }
    },
    {
      "cell_type": "code",
      "source": [
        "# @title 5 · Persistence metrics (fixed arma_impulse_response call) {display-mode: \"code\"}\n",
        "import numpy as np\n",
        "import matplotlib.pyplot as plt\n",
        "import statsmodels.api as sm\n",
        "from statsmodels.tsa.arima_process import arma_impulse_response\n",
        "\n",
        "# 5.1 — AR(1) half‐life on Δlog GDP\n",
        "growth = df['GDP'].diff().dropna()\n",
        "ar1_mod = sm.tsa.ARIMA(growth, order=(1,0,0)).fit()\n",
        "phi = ar1_mod.arparams[0]\n",
        "half_life = np.log(0.5) / np.log(abs(phi))\n",
        "print(f\"AR(1) φ = {phi:.3f} → half‐life ≈ {half_life:.1f} quarters\")\n",
        "\n",
        "# 5.2 — Long‐run multiplier ψ(1) from ARMA(4,2) on growth\n",
        "arma_mod = sm.tsa.ARIMA(growth, order=(4,0,2)).fit()\n",
        "ar_pol = np.r_[1, -arma_mod.arparams]    # [1, -φ1, -φ2, …]\n",
        "ma_pol = np.r_[1,  arma_mod.maparams]    # [1, θ1, θ2, …]\n",
        "\n",
        "# Call with positional “lags” argument, not nobs=\n",
        "irfs = arma_impulse_response(ar_pol, ma_pol, 40)\n",
        "psi1 = irfs.sum()\n",
        "print(f\"ψ(1) ≈ {psi1:.2f}\")\n",
        "\n",
        "# 5.3 — Variance‐ratio VR(40) on log‐GDP (manual)\n",
        "k = 40\n",
        "y = df['GDP']\n",
        "num  = (y - y.shift(k)).dropna().var()\n",
        "den  = k * y.diff().dropna().var()\n",
        "vr40 = num / den\n",
        "print(f\"VR({k}) = {vr40:.3f}\")\n",
        "\n",
        "# Optional: plot half‐life vs φ\n",
        "phis = np.linspace(0.8, 0.99, 20)\n",
        "hl   = np.log(0.5) / np.log(np.abs(phis))\n",
        "plt.figure(figsize=(5,3))\n",
        "plt.plot(phis, hl)\n",
        "plt.xlabel('AR(1) φ')\n",
        "plt.ylabel('Half‐life (quarters)')\n",
        "plt.title('Half‐life vs φ')\n",
        "plt.show()\n"
      ],
      "metadata": {
        "id": "uyDmda3LYwB4"
      },
      "execution_count": null,
      "outputs": []
    },
    {
      "cell_type": "markdown",
      "source": [
        "## 6 · Sticky‐price New‐Keynesian toy\n",
        "\n",
        "Log‐linear NK model:\n",
        "\\[\n",
        "\\pi_t = \\beta E_t[\\pi_{t+1}] + \\kappa \\tilde y_t,\\quad\n",
        "\\tilde y_t = E_t[\\tilde y_{t+1}] - \\sigma (i_t - E_t[\\pi_{t+1}] - r^n_t)\n",
        "\\]\n",
        "With a one‐time permanent TFP shock (ε₀ = 1), see why the output gap ̃y is I(0) even though potential y\\* is I(1).\n"
      ],
      "metadata": {
        "id": "ZkoRO7xQZyjK"
      }
    },
    {
      "cell_type": "code",
      "source": [
        "import numpy as np, matplotlib.pyplot as plt\n",
        "\n",
        "beta  = 0.99\n",
        "kappa = 0.05      # flatter Phillips curve\n",
        "sigma = 1\n",
        "phi_pi, phi_x = 1.5, 0.5\n",
        "\n",
        "h = 20\n",
        "rho = 0.5\n",
        "d  = np.zeros(h); d[0]=1         # demand (IS) shock\n",
        "\n",
        "gap = np.zeros(h)\n",
        "pi  = np.zeros(h)\n",
        "i   = np.zeros(h)\n",
        "\n",
        "for t in range(h-1):\n",
        "    # simple expectational closure: E_t[x_{t+1}] = gap[t], same for pi\n",
        "    i[t]    = phi_pi*pi[t] + phi_x*gap[t]\n",
        "    gap[t+1]= ( gap[t] - (i[t] - pi[t]) + d[t] ) / sigma\n",
        "    pi[t+1] = beta*pi[t] + kappa*gap[t+1]\n",
        "\n",
        "plt.plot(gap, 'o-', label=r'output gap $\\tilde y_t$')\n",
        "plt.plot(d, '--', label=r'shock $d_t$')\n",
        "plt.axhline(0,color='k',lw=.5)\n",
        "plt.title('NK IRF (simplest forward-looking closure)')\n",
        "plt.xlabel('quarters'); plt.legend(); plt.show()\n"
      ],
      "metadata": {
        "id": "Qt3UwV0-ZzOZ"
      },
      "execution_count": null,
      "outputs": []
    }
  ]
}