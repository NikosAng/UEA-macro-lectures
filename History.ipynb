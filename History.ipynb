{
  "nbformat": 4,
  "nbformat_minor": 0,
  "metadata": {
    "colab": {
      "provenance": [],
      "authorship_tag": "ABX9TyNRt2/K0DkwOuwONOG3aJbx",
      "include_colab_link": true
    },
    "kernelspec": {
      "name": "python3",
      "display_name": "Python 3"
    },
    "language_info": {
      "name": "python"
    }
  },
  "cells": [
    {
      "cell_type": "markdown",
      "metadata": {
        "id": "view-in-github",
        "colab_type": "text"
      },
      "source": [
        "<a href=\"https://colab.research.google.com/github/NikosAng/UEA-macro-lectures/blob/main/History.ipynb\" target=\"_parent\"><img src=\"https://colab.research.google.com/assets/colab-badge.svg\" alt=\"Open In Colab\"/></a>"
      ]
    },
    {
      "cell_type": "markdown",
      "source": [],
      "metadata": {
        "id": "5b-oMCl6tG8v"
      }
    },
    {
      "cell_type": "markdown",
      "source": [
        "# The Evolution of Time-Series Analysis in Macroeconomics  \n",
        "*From Slutsky & Frisch to Cointegration*\n",
        "\n",
        "---\n",
        "\n",
        "## Learning goals\n",
        "1. Connect early “impulse–propagation” ideas to today’s stochastic-process view.  \n",
        "2. Understand economic meaning of **stationarity**, **unit roots**, **persistence**, and **cointegration**.  \n",
        "3. Run miniature Python demos that make each concept tangible.\n"
      ],
      "metadata": {
        "id": "annW4bNntIOu"
      }
    },
    {
      "cell_type": "code",
      "source": [],
      "metadata": {
        "id": "UB7O0c0UtJNm"
      },
      "execution_count": null,
      "outputs": []
    }
  ]
}