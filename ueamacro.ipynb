{
  "cells": [
    {
      "cell_type": "markdown",
      "metadata": {
        "id": "view-in-github",
        "colab_type": "text"
      },
      "source": [
        "<a href=\"https://colab.research.google.com/github/NikosAng/UEA-macro-lectures/blob/main/ueamacro.ipynb\" target=\"_parent\"><img src=\"https://colab.research.google.com/assets/colab-badge.svg\" alt=\"Open In Colab\"/></a>"
      ]
    },
    {
      "cell_type": "code",
      "execution_count": null,
      "id": "39d37dd0-5372-493b-bdba-df85ae90da6f",
      "metadata": {
        "trusted": true,
        "id": "39d37dd0-5372-493b-bdba-df85ae90da6f"
      },
      "outputs": [],
      "source": [
        "# Colab bootstrap: install dependencies\n",
        "!pip install pandas numpy matplotlib statsmodels arch fredapi pandas-datareader tqdm\n"
      ]
    },
    {
      "cell_type": "markdown",
      "id": "f821dbee-d6eb-4c58-84c8-d462077c8d4b",
      "metadata": {
        "id": "f821dbee-d6eb-4c58-84c8-d462077c8d4b"
      },
      "source": [
        "## 1  Setup & Data Load\n",
        "\n",
        "In this first section we:\n",
        "\n",
        "1. Import required libraries.  \n",
        "2. Pull our key series (Real GDP, Potential GDP, CPI, IP, Fed Funds).  \n",
        "3. Provide a quick preview of the data.  \n",
        "4. Define helper routines for subsequent plots and tests.\n"
      ]
    },
    {
      "cell_type": "code",
      "execution_count": null,
      "id": "53487878-d2b5-42b1-9e5e-dc2e5e164ce3",
      "metadata": {
        "trusted": true,
        "id": "53487878-d2b5-42b1-9e5e-dc2e5e164ce3"
      },
      "outputs": [],
      "source": [
        "# 1.2 — Imports\n",
        "import pandas as pd\n",
        "import numpy as np\n",
        "import matplotlib.pyplot as plt\n",
        "from pandas_datareader import data as web\n",
        "\n",
        "# 1.3 — Date range\n",
        "start = \"1960-01-01\"\n",
        "end   = pd.Timestamp.today().strftime(\"%Y-%m-%d\")\n",
        "\n",
        "# 1.4 — FRED tickers dictionary\n",
        "tickers = {\n",
        "    \"GDP\":    \"GDPC1\",      # Real GDP (qtrly, SA)\n",
        "    \"POT_GDP\":\"GDPPOT\",     # Potential GDP\n",
        "    \"CPI\":    \"CPIAUCSL\",   # CPI all items\n",
        "    \"IP\":     \"INDPRO\",     # Industrial production index\n",
        "    \"FFR\":    \"FEDFUNDS\"    # Effective fed funds rate\n",
        "}\n",
        "\n",
        "# 1.5 — Download into a single DataFrame\n",
        "data = pd.concat(\n",
        "    {name: web.DataReader(code, \"fred\", start, end)\n",
        "     for name, code in tickers.items()},\n",
        "    axis=1\n",
        ")\n",
        "\n",
        "# 1.6 — Quick preview hhhhdddddd\n",
        "data.tail()\n"
      ]
    },
    {
      "cell_type": "markdown",
      "source": [
        "## 2 Visual Diagnostics\n",
        "\n",
        "We start by looking at basic time-series plots of real GDP, its growth rate, and simple diagnostics.\n",
        "\n",
        "* **Level vs. growth** – visual cue for I(1) vs I(0).  \n",
        "* **ACF / PACF** – check autocorrelation structure.  \n",
        "* **Rolling variance** – see whether volatility is constant or trending.\n"
      ],
      "metadata": {
        "id": "Fl1--DBYn7cc"
      },
      "id": "Fl1--DBYn7cc"
    },
    {
      "cell_type": "code",
      "source": [
        "# --- Section 1: Load demo GDP series ---------------------------------\n",
        "import pandas as pd, numpy as np, matplotlib.pyplot as plt\n",
        "from statsmodels.datasets import macrodata\n",
        "\n",
        "demo = macrodata.load_pandas().data        # quarterly 1959-2009 sample\n",
        "dates = pd.date_range(\"1959-01-01\", periods=len(demo), freq=\"QS\")\n",
        "gdp   = pd.Series(demo[\"realgdp\"].values, index=dates, name=\"GDP\")\n",
        "\n",
        "gdp.tail()      # quick preview\n",
        "\n",
        "\n",
        "fig, axes = plt.subplots(2, 1, figsize=(9, 6), sharex=True)\n",
        "\n",
        "# Log level\n",
        "np.log(gdp).plot(ax=axes[0], title=\"Log Real GDP Level\")\n",
        "axes[0].set_ylabel(\"Log Level\")\n",
        "\n",
        "# % growth (annualised)\n",
        "growth = np.log(gdp).diff().mul(100)\n",
        "growth.plot(ax=axes[1], title=\"Real GDP Growth Rate (%, q/q)\")\n",
        "axes[1].set_ylabel(\"Pct. Change\")\n",
        "\n",
        "plt.tight_layout()\n",
        "\n"
      ],
      "metadata": {
        "id": "h9ZUAQyGn8oe"
      },
      "id": "h9ZUAQyGn8oe",
      "execution_count": null,
      "outputs": []
    },
    {
      "cell_type": "code",
      "source": [
        "from statsmodels.graphics.tsaplots import plot_acf, plot_pacf\n",
        "\n",
        "fig, ax = plt.subplots(1, 2, figsize=(12, 4))\n",
        "plot_acf(growth.dropna(), lags=40, ax=ax[0])\n",
        "ax[0].set_title(\"ACF: GDP Growth\")\n",
        "plot_pacf(growth.dropna(), lags=40, ax=ax[1])\n",
        "ax[1].set_title(\"PACF: GDP Growth\")\n",
        "plt.tight_layout()\n"
      ],
      "metadata": {
        "id": "gKcZRBv9oV6w"
      },
      "id": "gKcZRBv9oV6w",
      "execution_count": null,
      "outputs": []
    },
    {
      "cell_type": "code",
      "source": [
        "fig, ax = plt.subplots(figsize=(8, 3))\n",
        "rolling_var = growth.rolling(window=40).var()\n",
        "rolling_var.plot(ax=ax)\n",
        "ax.set_title(\"Rolling Variance of GDP Growth (40-quarter window)\")\n",
        "ax.set_ylabel(\"Variance\")\n",
        "ax.set_xlabel(\"Date\")\n",
        "plt.tight_layout()\n"
      ],
      "metadata": {
        "id": "obNXhKOnoZRg"
      },
      "id": "obNXhKOnoZRg",
      "execution_count": null,
      "outputs": []
    },
    {
      "cell_type": "markdown",
      "source": [
        "## 3 Unit-Root Testing Suite\n",
        "\n",
        "We apply four complementary tests to **log GDP** and **GDP growth**:\n",
        "\n",
        "| Test | Null \\(H₀\\) | Alternative | Note |\n",
        "|------|-------------|-------------|------|\n",
        "| ADF          | Unit root | Stationary | Parametric; low power near 1 |\n",
        "| Phillips–Perron | Unit root | Stationary | Non-parametric error correction |\n",
        "| DF-GLS       | Unit root | Stationary | GLS-detrended, higher power |\n",
        "| KPSS         | (Trend-)Stationary | Unit root | Opposite null; useful cross-check |\n",
        "\n",
        "Interpreting results:  \n",
        "*Reject the null* in ADF/PP/DF-GLS → evidence of stationarity.  \n",
        "*Reject the null* in KPSS → evidence of a unit root.\n"
      ],
      "metadata": {
        "id": "JrgLC-Bhokkh"
      },
      "id": "JrgLC-Bhokkh"
    },
    {
      "cell_type": "code",
      "source": [
        "# Install arch for unit‐root tests\n",
        "!pip install arch\n"
      ],
      "metadata": {
        "id": "Bj41VjXHpBit"
      },
      "id": "Bj41VjXHpBit",
      "execution_count": null,
      "outputs": []
    },
    {
      "cell_type": "code",
      "source": [
        "from arch.unitroot import ADF, PhillipsPerron, DFGLS, KPSS\n",
        "import pandas as pd\n",
        "\n",
        "def unit_root_tests(series, lags=4, trend='ct'):\n",
        "    \"\"\"Return test statistic & p-value for four unit-root tests.\"\"\"\n",
        "    s = series.dropna()\n",
        "    return {\n",
        "        'ADF'   : (ADF(s, lags=lags, trend=trend).stat,\n",
        "                   ADF(s, lags=lags, trend=trend).pvalue),\n",
        "        'PP'    : (PhillipsPerron(s, lags=lags, trend=trend).stat,\n",
        "                   PhillipsPerron(s, lags=lags, trend=trend).pvalue),\n",
        "        'DF-GLS': (DFGLS(s, lags=lags, trend=trend).stat,\n",
        "                   DFGLS(s, lags=lags, trend=trend).pvalue),\n",
        "        'KPSS'  : (KPSS(s, lags=lags, trend=trend).stat,\n",
        "                   KPSS(s, lags=lags, trend=trend).pvalue)\n",
        "    }\n",
        "\n",
        "\n",
        "\n",
        "# Log GDP level (quarterly)\n",
        "lvl_res = pd.DataFrame.from_dict(\n",
        "    unit_root_tests(np.log(gdp), lags=4, trend='ct'),\n",
        "    orient='index', columns=['Statistic', 'P-value']\n",
        ")\n",
        "\n",
        "# GDP growth (first difference)\n",
        "grw_res = pd.DataFrame.from_dict(\n",
        "    unit_root_tests(np.log(gdp).diff().dropna(), lags=4, trend='c'),\n",
        "    orient='index', columns=['Statistic', 'P-value']\n",
        ")\n",
        "\n",
        "print(\"=== Log GDP Level ===\")\n",
        "display(lvl_res)\n",
        "\n",
        "print(\"\\n=== GDP Growth ===\")\n",
        "display(grw_res)\n",
        "\n",
        "\n",
        "\n",
        "\n"
      ],
      "metadata": {
        "id": "Szsv5rOBolZZ"
      },
      "id": "Szsv5rOBolZZ",
      "execution_count": null,
      "outputs": []
    },
    {
      "cell_type": "markdown",
      "source": [
        "**Typical pattern (US GDP sample):**\n",
        "\n",
        "* Log level – ADF, PP, DF-GLS *fail* to reject  \\(p > 0.10\\), while KPSS\n",
        "  *rejects* the stationarity null ⇒ evidence points to a **unit root (I(1))**.\n",
        "\n",
        "* Growth rate – ADF/PP/DF-GLS all *reject* the unit-root null, KPSS\n",
        "  *does not reject* stationarity ⇒ growth is **stationary (I(0))**.\n",
        "\n",
        "This matches our visual impression from Section 2.\n"
      ],
      "metadata": {
        "id": "mRmETdCypRhW"
      },
      "id": "mRmETdCypRhW"
    },
    {
      "cell_type": "code",
      "source": [],
      "metadata": {
        "id": "l9DPHFxJpUul"
      },
      "id": "l9DPHFxJpUul",
      "execution_count": null,
      "outputs": []
    },
    {
      "cell_type": "markdown",
      "source": [
        "## 4 Persistence Measures\n",
        "\n",
        "We’ll quantify how long shocks to GDP growth persist via:\n",
        "\n",
        "1. **Half‐life** of an AR(1) process  \n",
        "2. **Impulse‐Response Function (IRF)** of that AR(1)  \n",
        "3. **Variance‐Ratio (VR)** statistic at various horizons\n"
      ],
      "metadata": {
        "id": "Oj_KDgsBpc2d"
      },
      "id": "Oj_KDgsBpc2d"
    },
    {
      "cell_type": "code",
      "source": [
        "import statsmodels.api as sm\n",
        "\n",
        "# 4.1 — Fit AR(1) to GDP growth\n",
        "y = growth.dropna()  # from Section 2: growth = np.log(gdp).diff().mul(100)\n",
        "ar1 = sm.tsa.ARIMA(y, order=(1, 0, 0)).fit()\n",
        "phi = ar1.params.get('ar.L1', ar1.params[1])  # name differs by statsmodels version\n",
        "\n",
        "# Compute half‐life\n",
        "hl = np.log(0.5) / np.log(abs(phi))\n",
        "print(f\"Estimated φ = {phi:.3f}\")\n",
        "print(f\"Half‐life ≈ {hl:.1f} quarters\")\n",
        "\n",
        "# IRF plot\n",
        "irf_horizon = 20\n",
        "irf = [phi**h for h in range(irf_horizon)]\n",
        "plt.figure(figsize=(6,3))\n",
        "plt.plot(range(irf_horizon), irf, marker='o')\n",
        "plt.title(\"AR(1) Impulse‐Response Function\")\n",
        "plt.xlabel(\"h quarters\")\n",
        "plt.ylabel(\"Response to 1-unit shock\")\n",
        "plt.tight_layout()\n",
        "plt.show()\n",
        "\n",
        "\n",
        "\n",
        "\n",
        "\n",
        "# 4.2 — Variance‐Ratio function\n",
        "def variance_ratio(series, k):\n",
        "    num = series.diff(k).var()\n",
        "    den = k * series.diff(1).var()\n",
        "    return num / den\n",
        "\n",
        "# Compute VR at several horizons\n",
        "ks = [1, 4, 8, 12, 20]\n",
        "vr_values = [variance_ratio(y, k) for k in ks]\n",
        "\n",
        "# Plot VR(k)\n",
        "plt.figure(figsize=(6,3))\n",
        "plt.plot(ks, vr_values, marker='o')\n",
        "plt.title(\"Variance Ratio vs. Horizon k\")\n",
        "plt.xlabel(\"k (quarters)\")\n",
        "plt.ylabel(\"VR(k)\")\n",
        "plt.xticks(ks)\n",
        "plt.tight_layout()\n",
        "plt.show()\n",
        "\n",
        "# Display the numbers\n",
        "import pandas as pd\n",
        "pd.Series(vr_values, index=ks, name=\"VR(k)\")\n",
        "\n",
        "\n",
        "\n",
        "\n",
        "\n",
        "\n"
      ],
      "metadata": {
        "id": "7n-ltlEHpeEM"
      },
      "id": "7n-ltlEHpeEM",
      "execution_count": null,
      "outputs": []
    },
    {
      "cell_type": "markdown",
      "source": [
        "## 5 Trend/Cycle Decomposition\n",
        "\n",
        "We’ll compare two approaches:\n",
        "\n",
        "1. **Hodrick–Prescott (HP) filter** – purely statistical smoothing  \n",
        "2. **Beveridge–Nelson (BN)** via a local‐level structural model  \n",
        "   (trend = long-run forecast; cycle = deviation)\n"
      ],
      "metadata": {
        "id": "C6EoCP2qp8e2"
      },
      "id": "C6EoCP2qp8e2"
    },
    {
      "cell_type": "code",
      "source": [
        "from statsmodels.tsa.filters.hp_filter import hpfilter\n",
        "\n",
        "# Apply HP filter to log GDP\n",
        "log_gdp = np.log(gdp)\n",
        "cycle_hp, trend_hp = hpfilter(log_gdp, lamb=1600)\n",
        "\n",
        "# Plot\n",
        "fig, ax = plt.subplots(figsize=(9,4))\n",
        "trend_hp.plot(ax=ax, label=\"HP Trend\")\n",
        "cycle_hp.plot(ax=ax, label=\"HP Cycle (dashed)\", linestyle=\"--\")\n",
        "ax.set_title(\"HP Filter Decomposition\")\n",
        "ax.legend()\n",
        "plt.tight_layout()\n",
        "plt.show()\n",
        "\n",
        "\n",
        "\n",
        "from statsmodels.tsa.statespace.structural import UnobservedComponents\n",
        "\n",
        "# Fit local‐level model to log GDP\n",
        "mod = UnobservedComponents(log_gdp, level='local level')\n",
        "res = mod.fit(disp=False)\n",
        "\n",
        "# Extract smoothed trend (state 0) and cycle\n",
        "bn_trend  = pd.Series(res.smoothed_state[0], index=log_gdp.index)\n",
        "bn_cycle  = log_gdp - bn_trend\n",
        "\n",
        "# Compare HP vs BN\n",
        "fig, axes = plt.subplots(2,1,figsize=(9,6), sharex=True)\n",
        "\n",
        "axes[0].plot(trend_hp, label=\"HP Trend\")\n",
        "axes[0].plot(bn_trend, label=\"BN Trend\", linestyle='--')\n",
        "axes[0].set_title(\"HP vs BN: Trend\")\n",
        "axes[0].legend()\n",
        "\n",
        "axes[1].plot(cycle_hp, label=\"HP Cycle\")\n",
        "axes[1].plot(bn_cycle, label=\"BN Cycle\", linestyle='--')\n",
        "axes[1].set_title(\"HP vs BN: Cycle\")\n",
        "axes[1].legend()\n",
        "\n",
        "plt.tight_layout()\n",
        "plt.show()\n"
      ],
      "metadata": {
        "id": "PQuE-II8p-PH"
      },
      "id": "PQuE-II8p-PH",
      "execution_count": null,
      "outputs": []
    },
    {
      "cell_type": "markdown",
      "source": [
        "## 6 Cointegration & ECM\n",
        "\n",
        "We’ll explore long‐run equilibria between I(1) series using:\n",
        "\n",
        "1. **Engle‐Granger two‐step**: regress level on potential regressor, ADF test on residuals.  \n",
        "2. **Johansen method**: VAR‐based test for cointegration rank, then VECM estimation.  \n",
        "3. **Error‐Correction Model**: connect short‐run dynamics to long‐run disequilibrium.\n"
      ],
      "metadata": {
        "id": "MxHf2VX4qGVO"
      },
      "id": "MxHf2VX4qGVO"
    },
    {
      "cell_type": "code",
      "source": [
        "import pandas as pd\n",
        "import numpy as np\n",
        "from statsmodels.tsa.vector_ar.vecm import coint_johansen, VECM\n",
        "from arch.unitroot import ADF\n",
        "\n",
        "# 6.2.1 — Prepare two distinct I(1) series: GDP & Consumption\n",
        "log_gdp = np.log(gdp)\n",
        "# demo[\"realcons\"] is real consumption from statsmodels’ macrodata\n",
        "realcons = pd.Series(demo[\"realcons\"].values, index=dates, name=\"CONS\")\n",
        "log_cons = np.log(realcons)\n",
        "\n",
        "df_coint = pd.concat([log_gdp, log_cons], axis=1).dropna()\n",
        "\n",
        "# 6.2.2 — Engle‐Granger two‐step\n",
        "import statsmodels.api as sm\n",
        "resid = sm.OLS(df_coint[\"GDP\"], sm.add_constant(df_coint[\"CONS\"])).fit().resid\n",
        "eg_adf = ADF(resid, lags=4, trend='c')\n",
        "print(\"Engle‐Granger Residual ADF:\")\n",
        "print(f\"  Statistic = {eg_adf.stat:.3f}, p-value = {eg_adf.pvalue:.3f}\")\n",
        "print(\"  → Stationary residual ⇒ cointegration\"\n",
        "      if eg_adf.pvalue < 0.05 else \"  → No cointegration detected\")\n",
        "\n",
        "# 6.2.3 — Johansen test\n",
        "from statsmodels.tsa.vector_ar.vecm import coint_johansen\n",
        "jres = coint_johansen(df_coint, det_order=0, k_ar_diff=1)\n",
        "print(\"\\nJohansen Trace Statistics:\")\n",
        "for r, (stat, crit) in enumerate(zip(jres.lr1, jres.cvt[:,1])):\n",
        "    print(f\" r ≤ {r}: {stat:.2f} (5% crit = {crit:.2f})\")\n",
        "\n",
        "# 6.2.4 — If rank=1, estimate VECM\n",
        "if jres.lr1[0] > jres.cvt[0,1]:\n",
        "    from statsmodels.tsa.vector_ar.vecm import VECM\n",
        "    vecm = VECM(df_coint, k_ar_diff=1, coint_rank=1, deterministic='ci').fit()\n",
        "    print(\"\\nVECM adjustment speeds (alpha):\")\n",
        "    display(vecm.alpha)\n"
      ],
      "metadata": {
        "id": "dSkHtmKcqHxX"
      },
      "id": "dSkHtmKcqHxX",
      "execution_count": null,
      "outputs": []
    }
  ],
  "metadata": {
    "kernelspec": {
      "display_name": "Python (Pyodide)",
      "language": "python",
      "name": "python"
    },
    "language_info": {
      "codemirror_mode": {
        "name": "python",
        "version": 3
      },
      "file_extension": ".py",
      "mimetype": "text/x-python",
      "name": "python",
      "nbconvert_exporter": "python",
      "pygments_lexer": "ipython3",
      "version": "3.8"
    },
    "colab": {
      "provenance": [],
      "include_colab_link": true
    }
  },
  "nbformat": 4,
  "nbformat_minor": 5
}