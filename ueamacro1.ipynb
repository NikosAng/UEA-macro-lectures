{
  "cells": [
    {
      "cell_type": "code",
      "execution_count": null,
      "id": "39d37dd0-5372-493b-bdba-df85ae90da6f",
      "metadata": {
        "trusted": true
      },
      "outputs": [],
      "source": [
        "# Colab bootstrap: install dependencies\n",
        "!pip install pandas numpy matplotlib statsmodels arch fredapi pandas-datareader tqdm\n"
      ]
    },
    {
      "cell_type": "markdown",
      "id": "f821dbee-d6eb-4c58-84c8-d462077c8d4b",
      "metadata": {},
      "source": [
        "## 1  Setup & Data Load\n",
        "\n",
        "In this first section we:\n",
        "\n",
        "1. Import required libraries.  \n",
        "2. Pull our key series (Real GDP, Potential GDP, CPI, IP, Fed Funds).  \n",
        "3. Provide a quick preview of the data.  \n",
        "4. Define helper routines for subsequent plots and tests.\n"
      ]
    },
    {
      "cell_type": "code",
      "execution_count": null,
      "id": "53487878-d2b5-42b1-9e5e-dc2e5e164ce3",
      "metadata": {
        "trusted": true
      },
      "outputs": [],
      "source": [
        "# 1.2 — Imports\n",
        "import pandas as pd\n",
        "import numpy as np\n",
        "import matplotlib.pyplot as plt\n",
        "from pandas_datareader import data as web\n",
        "\n",
        "# 1.3 — Date range\n",
        "start = \"1960-01-01\"\n",
        "end   = pd.Timestamp.today().strftime(\"%Y-%m-%d\")\n",
        "\n",
        "# 1.4 — FRED tickers dictionary\n",
        "tickers = {\n",
        "    \"GDP\":    \"GDPC1\",      # Real GDP (qtrly, SA)\n",
        "    \"POT_GDP\":\"GDPPOT\",     # Potential GDP\n",
        "    \"CPI\":    \"CPIAUCSL\",   # CPI all items\n",
        "    \"IP\":     \"INDPRO\",     # Industrial production index\n",
        "    \"FFR\":    \"FEDFUNDS\"    # Effective fed funds rate\n",
        "}\n",
        "\n",
        "# 1.5 — Download into a single DataFrame\n",
        "data = pd.concat(\n",
        "    {name: web.DataReader(code, \"fred\", start, end)\n",
        "     for name, code in tickers.items()},\n",
        "    axis=1\n",
        ")\n",
        "\n",
        "# 1.6 — Quick previewssssssss\n",
        "data.tail()\n"
      ]
    }
  ],
  "metadata": {
    "kernelspec": {
      "display_name": "Python (Pyodide)",
      "language": "python",
      "name": "python"
    },
    "language_info": {
      "codemirror_mode": {
        "name": "python",
        "version": 3
      },
      "file_extension": ".py",
      "mimetype": "text/x-python",
      "name": "python",
      "nbconvert_exporter": "python",
      "pygments_lexer": "ipython3",
      "version": "3.8"
    }
  },
  "nbformat": 4,
  "nbformat_minor": 5
}
