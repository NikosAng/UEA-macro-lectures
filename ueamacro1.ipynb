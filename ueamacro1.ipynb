{
  "metadata": {
    "kernelspec": {
      "name": "python",
      "display_name": "Python (Pyodide)",
      "language": "python"
    },
    "language_info": {
      "codemirror_mode": {
        "name": "python",
        "version": 3
      },
      "file_extension": ".py",
      "mimetype": "text/x-python",
      "name": "python",
      "nbconvert_exporter": "python",
      "pygments_lexer": "ipython3",
      "version": "3.8"
    }
  },
  "nbformat_minor": 5,
  "nbformat": 4,
  "cells": [
    {
      "id": "39d37dd0-5372-493b-bdba-df85ae90da6f",
      "cell_type": "code",
      "source": "# Colab bootstrap: install dependencies\n!pip install pandas numpy matplotlib statsmodels arch fredapi pandas-datareader tqdm\n",
      "metadata": {
        "trusted": true
      },
      "outputs": [],
      "execution_count": null
    },
    {
      "id": "f821dbee-d6eb-4c58-84c8-d462077c8d4b",
      "cell_type": "markdown",
      "source": "## 1  Setup & Data Load\n\nIn this first section we:\n\n1. Import required libraries.  \n2. Pull our key series (Real GDP, Potential GDP, CPI, IP, Fed Funds).  \n3. Provide a quick preview of the data.  \n4. Define helper routines for subsequent plots and tests.\n",
      "metadata": {}
    },
    {
      "id": "53487878-d2b5-42b1-9e5e-dc2e5e164ce3",
      "cell_type": "code",
      "source": "# 1.2 — Imports\nimport pandas as pd\nimport numpy as np\nimport matplotlib.pyplot as plt\nfrom pandas_datareader import data as web\n\n# 1.3 — Date range\nstart = \"1960-01-01\"\nend   = pd.Timestamp.today().strftime(\"%Y-%m-%d\")\n\n# 1.4 — FRED tickers dictionary\ntickers = {\n    \"GDP\":    \"GDPC1\",      # Real GDP (qtrly, SA)\n    \"POT_GDP\":\"GDPPOT\",     # Potential GDP\n    \"CPI\":    \"CPIAUCSL\",   # CPI all items\n    \"IP\":     \"INDPRO\",     # Industrial production index\n    \"FFR\":    \"FEDFUNDS\"    # Effective fed funds rate\n}\n\n# 1.5 — Download into a single DataFrame\ndata = pd.concat(\n    {name: web.DataReader(code, \"fred\", start, end)\n     for name, code in tickers.items()},\n    axis=1\n)\n\n# 1.6 — Quick preview\ndata.tail()\n",
      "metadata": {
        "trusted": true
      },
      "outputs": [],
      "execution_count": null
    }
  ]
}